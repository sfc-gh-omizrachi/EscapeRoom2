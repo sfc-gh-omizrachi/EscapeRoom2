{
 "cells": [
  {
   "cell_type": "code",
   "execution_count": null,
   "id": "3775908f-ca36-4846-8f38-5adca39217f2",
   "metadata": {
    "language": "python",
    "name": "cell1"
   },
   "outputs": [],
   "source": [
    "# Import python packages\n",
    "import streamlit as st\n",
    "import pandas as pd\n",
    "import snowbooks_extras\n",
    "\n",
    "# We can also use Snowpark for our analyses!\n",
    "from snowflake.snowpark.context import get_active_session\n",
    "session = get_active_session()\n"
   ]
  }
 ],
 "metadata": {
  "kernelspec": {
   "display_name": "Streamlit Notebook",
   "name": "streamlit"
  },
  "lastEditStatus": {
   "authorEmail": "omermiz@mail.com",
   "authorId": "4945697812249",
   "authorName": "OMIZRACHI",
   "lastEditTime": 1758433634051,
   "notebookId": "o43vnpxcngfwoenixwic",
   "sessionId": "14555350-c20f-45e6-abc4-69f52d03b6dc"
  }
 },
 "nbformat": 4,
 "nbformat_minor": 5
}
